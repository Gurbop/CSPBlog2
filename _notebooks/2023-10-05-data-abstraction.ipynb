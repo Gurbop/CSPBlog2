{
 "cells": [
  {
   "cell_type": "code",
   "execution_count": null,
   "metadata": {},
   "outputs": [],
   "source": [
    "#Lecture\n",
    "string = \"string\"\n",
    "print(string)\n",
    "integer = 38\n",
    "print(integer)\n",
    "boolean = True\n",
    "if(integer<40):\n",
    "    print(boolean)\n",
    "num1 = 38\n",
    "num2 = 13\n",
    "num3 = 3\n",
    "num1 = num3\n",
    "num3 = num2\n",
    "num2 = num1\n",
    "print(num1)\n",
    "print(num2)\n",
    "print(num3)\n",
    "lst = [\"basketball\", 38, \"macandcheese\", 13]\n",
    "print(lst[2])\n",
    "dict = {\n",
    "    \"x:13\",\n",
    "    \"z:15\",\n",
    "    \"y,18\"\n",
    "}\n",
    "print(dict)\n",
    "import json\n",
    "jsonstr = \"{}\""
   ]
  },
  {
   "cell_type": "markdown",
   "metadata": {},
   "source": [
    "---\n",
    "toc: true\n",
    "comments: false\n",
    "layout: post\n",
    "title: Data Abstraction\n",
    "description: Data Abstraction lecture.\n",
    "type: plans\n",
    "courses: { compsci: {week: 7} }\n",
    "--- "
   ]
  },
  {
   "cell_type": "code",
   "execution_count": 1,
   "metadata": {},
   "outputs": [
    {
     "name": "stdout",
     "output_type": "stream",
     "text": [
      "p1, 3 years old\n",
      "p2, 38 years old\n",
      "p3, 13 years old\n",
      "The oldest person is: p2\n"
     ]
    }
   ],
   "source": [
    "#Homework\n",
    "class Person:\n",
    "    def __init__(self, name, age):\n",
    "        self.name = name\n",
    "        self.age = age\n",
    "\n",
    "person1 = Person(\"p1\", 3)\n",
    "person2 = Person(\"p2\", 38)\n",
    "person3 = Person(\"p3\", 13)\n",
    "\n",
    "people_list = [person1, person2, person3]\n",
    "\n",
    "def print_people(people):\n",
    "    for i in people:\n",
    "        print(str(i.name)+ \", \" + str(i.age) +\" years old\")\n",
    "print_people(people_list)\n",
    "\n",
    "#Part 2\n",
    "people_dict = {\"p1\": 3, \"p2\": 38, \"p3\": 13}\n",
    "\n",
    "def oldest(people_dict):\n",
    "    oldest_person = max(people_dict, key=people_dict.get)\n",
    "    print(\"The oldest person is: \"+ str(oldest_person))\n",
    "oldest(people_dict)\n",
    "    \n"
   ]
  }
 ],
 "metadata": {
  "kernelspec": {
   "display_name": "Python 3",
   "language": "python",
   "name": "python3"
  },
  "language_info": {
   "codemirror_mode": {
    "name": "ipython",
    "version": 3
   },
   "file_extension": ".py",
   "mimetype": "text/x-python",
   "name": "python",
   "nbconvert_exporter": "python",
   "pygments_lexer": "ipython3",
   "version": "3.10.12"
  },
  "orig_nbformat": 4
 },
 "nbformat": 4,
 "nbformat_minor": 2
}
