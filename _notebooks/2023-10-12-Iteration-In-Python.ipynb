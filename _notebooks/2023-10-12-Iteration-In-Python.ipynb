{
 "cells": [
  {
   "cell_type": "markdown",
   "metadata": {},
   "source": [
    "---\n",
    "toc: true\n",
    "comments: true\n",
    "layout: post\n",
    "title: CB 3.7,3.8 - Iteration in Python\n",
    "description: Lesson for iteration in Python, using College Board lessons 3.7 & 3.8.\n",
    "type: hacks\n",
    "author: Advik Garg, Srijan Atti, Akhil Singamneni, Aashray Rajagopalan\n",
    "courses: { compsci: {week: 7} }\n",
    "---"
   ]
  },
  {
   "cell_type": "markdown",
   "metadata": {},
   "source": [
    "# Introduction\n",
    "In this lesson, we will explore the various ways to create loops in Python. Loops are essential for repetitive tasks and are a fundamental concept in programming. We will cover different types of loops, advanced loop techniques, and how to work with lists and dictionaries using loops."
   ]
  },
  {
   "cell_type": "markdown",
   "metadata": {},
   "source": [
    "## For Loops\n",
    "- Used to iterate over a sequence (such as a list, tuple, string, or range) \n",
    "- Executes a block of code for each item in the sequence"
   ]
  },
  {
   "cell_type": "code",
   "execution_count": null,
   "metadata": {},
   "outputs": [],
   "source": [
    "# APCSP Pseudo-Code: Iterating Over a List of Fruits\n",
    "\n",
    "fruits ← [\"apple\", \"banana\", \"cherry\"]\n",
    "\n",
    "FOR EACH fruit IN fruits:\n",
    "    DISPLAY fruit\n",
    "END FOR\n",
    "\n",
    "\n"
   ]
  },
  {
   "cell_type": "code",
   "execution_count": 18,
   "metadata": {},
   "outputs": [
    {
     "name": "stdout",
     "output_type": "stream",
     "text": [
      "apple\n",
      "banana\n",
      "cherry\n"
     ]
    }
   ],
   "source": [
    "# Example 1: Simple for loop\n",
    "fruits = [\"apple\", \"banana\", \"cherry\"]\n",
    "for fruit in fruits:\n",
    "    print(fruit)"
   ]
  },
  {
   "cell_type": "markdown",
   "metadata": {},
   "source": [
    "## While Loops\n",
    "- Used to execute a block of code as long as a condition is true"
   ]
  },
  {
   "cell_type": "code",
   "execution_count": null,
   "metadata": {},
   "outputs": [],
   "source": [
    "# APCSP Pseudo-Code: Using a While Loop to Count and Display Numbers\n",
    "\n",
    "\n",
    "i ← 1\n",
    "\n",
    "\n",
    "WHILE i ≤ 5:\n",
    "    DISPLAY i\n",
    "    i ← i + 1\n",
    "END WHILE"
   ]
  },
  {
   "cell_type": "code",
   "execution_count": 17,
   "metadata": {},
   "outputs": [
    {
     "name": "stdout",
     "output_type": "stream",
     "text": [
      "1\n",
      "2\n",
      "3\n",
      "4\n",
      "5\n"
     ]
    }
   ],
   "source": [
    "# Example 2: Simple while loop\n",
    "i = 1\n",
    "while i <= 5:\n",
    "    print(i)\n",
    "    i += 1"
   ]
  },
  {
   "cell_type": "markdown",
   "metadata": {},
   "source": [
    "## Looping with Lists and Dictionaries\n",
    "- Used to iterate through the elements of lists and dictionaries"
   ]
  },
  {
   "cell_type": "code",
   "execution_count": null,
   "metadata": {},
   "outputs": [],
   "source": [
    "# APCSP Pseudo-Code: Loop Through a List\n",
    "\n",
    "numbers ← [1, 2, 3, 4]\n",
    "FOR EACH num IN numbers:\n",
    "    DISPLAY num\n",
    "END FOR\n",
    "\n",
    "# APCSP Pseudo-Code: Loop Through a Dictionary\n",
    "person ← {\"name\": \"aashray\", \"age\": 15, \"city\": \"San Diego\"}\n",
    "FOR EACH key, value IN person:\n",
    "    DISPLAY key, \":\", value\n",
    "END FOR\n"
   ]
  },
  {
   "cell_type": "code",
   "execution_count": 16,
   "metadata": {},
   "outputs": [
    {
     "name": "stdout",
     "output_type": "stream",
     "text": [
      "1\n",
      "2\n",
      "3\n",
      "4\n",
      "name : aashray\n",
      "age : 15\n",
      "city : San Diego\n"
     ]
    }
   ],
   "source": [
    "# Example 3: Loop through a list\n",
    "numbers = [1, 2, 3, 4]\n",
    "for num in numbers:\n",
    "    print(num)\n",
    "\n",
    "# Example 4: Loop through a dictionary\n",
    "person = {\"name\": \"aashray\", \"age\": 15, \"city\": \"San Diego\"}\n",
    "for key, value in person.items():\n",
    "    print(key, \":\", value)\n"
   ]
  },
  {
   "cell_type": "markdown",
   "metadata": {},
   "source": [
    "# Popcorn Hack 1\n",
    "\n",
    "- Use a loop to get X amount of inputs. Then use a loop to find the type of each value.\n",
    "\n",
    "- Extra Challenge: If an input is a number, make the corresponding value in the dictionary a number."
   ]
  },
  {
   "cell_type": "code",
   "execution_count": 15,
   "metadata": {},
   "outputs": [
    {
     "name": "stdout",
     "output_type": "stream",
     "text": [
      "<class 'str'>\n",
      "<class 'str'>\n",
      "<class 'str'>\n"
     ]
    }
   ],
   "source": [
    "sample_dict = {\n",
    "    \"A\": \"13\",\n",
    "    \"B\": \"38\",\n",
    "    \"c\": \"3\"\n",
    "}\n",
    "num = 0\n",
    "for i in sample_dict:\n",
    "    print(type(sample_dict[i]))\n",
    "    \n",
    "\n",
    "# Code goes here"
   ]
  },
  {
   "cell_type": "markdown",
   "metadata": {},
   "source": [
    "## Looping with Index Variable\n",
    "You can use the `range` function to create a loop with an index variable."
   ]
  },
  {
   "cell_type": "code",
   "execution_count": null,
   "metadata": {},
   "outputs": [],
   "source": [
    "# APCSP Pseudo-Code: Loop Through a List Using Index\n",
    "\n",
    "lst ← [4, 6, 7, 2]\n",
    "FOR i IN RANGE(LENGTH(lst)):\n",
    "    DISPLAY \"Index: \" + STRING(i)\n",
    "    DISPLAY \"Element: \" + STRING(GET_ELEMENT(lst, i))\n",
    "END FOR"
   ]
  },
  {
   "cell_type": "code",
   "execution_count": 20,
   "metadata": {},
   "outputs": [
    {
     "name": "stdout",
     "output_type": "stream",
     "text": [
      "Index: 0\n",
      "Element: 4\n",
      "Index: 1\n",
      "Element: 6\n",
      "Index: 2\n",
      "Element: 7\n",
      "Index: 3\n",
      "Element: 2\n"
     ]
    }
   ],
   "source": [
    "# Example 5: Loop with an index variable\n",
    "\n",
    "lst = [4, 6, 7, 2]\n",
    "\n",
    "for i in range(len(lst)): # Loop for the number of elements in the list\n",
    "    print('Index: ' + str(i)) # Print the index\n",
    "    print('Element: ' + str(lst[i])) # Print the element"
   ]
  },
  {
   "cell_type": "markdown",
   "metadata": {},
   "source": [
    "## Nested If Statements\n",
    "You can nest conditional statements inside a `for` loop to execute different code based on conditions."
   ]
  },
  {
   "cell_type": "code",
   "execution_count": null,
   "metadata": {},
   "outputs": [],
   "source": [
    "# APCSP Pseudo-Code: For Loop with Nested If Statements\n",
    "\n",
    "numbers ← [1, 2, 3, 4, 5]\n",
    "FOR EACH num IN numbers:\n",
    "    IF num MOD 2 EQUALS 0:\n",
    "        DISPLAY num, \"is even\"\n",
    "    ELSE:\n",
    "        DISPLAY num, \"is odd\"\n",
    "    END IF\n",
    "END FOR\n"
   ]
  },
  {
   "cell_type": "code",
   "execution_count": 9,
   "metadata": {},
   "outputs": [
    {
     "name": "stdout",
     "output_type": "stream",
     "text": [
      "1 is odd\n",
      "2 is even\n",
      "3 is odd\n",
      "4 is even\n",
      "5 is odd\n"
     ]
    }
   ],
   "source": [
    "# Example 6: For loop with nested if statements\n",
    "numbers = [1, 2, 3, 4, 5]\n",
    "for num in numbers:\n",
    "    if num % 2 == 0:\n",
    "        print(num, \"is even\")\n",
    "    else:\n",
    "        print(num, \"is odd\")"
   ]
  },
  {
   "cell_type": "markdown",
   "metadata": {},
   "source": [
    "# Popcorn Hack 2\n",
    "\n",
    "- Use the input() function to append a range of integers from a list\n",
    "\n",
    "- Use a nested if statement to only print numbers in the list that are evenly divisble by 3"
   ]
  },
  {
   "cell_type": "code",
   "execution_count": 5,
   "metadata": {},
   "outputs": [
    {
     "name": "stdout",
     "output_type": "stream",
     "text": [
      "enter a number\n",
      "[12, 3, 6, 9]\n"
     ]
    }
   ],
   "source": [
    "nums = [1, 2, 3, 4, 5, 6, 9]\n",
    "#Code goes here\n",
    "print(\"enter a number\")\n",
    "x= int(input())\n",
    "nums.append(x)\n",
    "div3 = []\n",
    "for i in range(len(nums)):\n",
    "    if(nums[i-1]%3 == 0):\n",
    "        div3.append(nums[i-1])\n",
    "print(div3)"
   ]
  },
  {
   "cell_type": "markdown",
   "metadata": {},
   "source": [
    "## Try/Except\n",
    "- Using a `try` and `except` block inside a loop can handle errors gracefully.\n",
    "  \n",
    "- Very useful for production code, even in frontend webapps\n",
    "    - Ex: Giving an error page instead of dumping critical information on the webpage"
   ]
  },
  {
   "cell_type": "code",
   "execution_count": null,
   "metadata": {},
   "outputs": [],
   "source": [
    "# APCSP Pseudo-Code: Handling Errors in a For Loop\n",
    "\n",
    "numbers ← [1, 2, \"three\", 4, 0, \"five\"]\n",
    "FOR EACH item IN numbers:\n",
    "    TRY:\n",
    "        DISPLAY 10 / item\n",
    "    CATCH ZeroDivisionError:\n",
    "        DISPLAY \"Division by zero\"\n",
    "    CATCH TypeError:\n",
    "        DISPLAY \"Type error\"\n",
    "    END TRY\n",
    "END FOR\n"
   ]
  },
  {
   "cell_type": "markdown",
   "metadata": {},
   "source": [
    "# Popcorn Hack 3\n",
    "- Create a for loop that uses a try and except statement for an AttributeError\n",
    "- Use integers and a list to create scenarios where the loop will either print something expected or print an error message\n",
    "- *CHALLENGE:* Try using the `math` module for this error"
   ]
  },
  {
   "cell_type": "code",
   "execution_count": null,
   "metadata": {},
   "outputs": [],
   "source": [
    "numbers = [1, 2, 'three', 4, 'five', 6]\n",
    "\n",
    "for item in numbers:\n",
    "    try:\n",
    "        result = item + 10\n",
    "        print(f\"Result: {result}\")\n",
    "    except AttributeError as e:\n",
    "        print(f\"AttributeError: {e} occurred for {item}. It may not support the operation.\")\n"
   ]
  },
  {
   "cell_type": "markdown",
   "metadata": {},
   "source": [
    "## Continue and Break\n",
    "- `Continue` statement skips the current iteration\n",
    "- `Break` statement exits the loop prematurely"
   ]
  },
  {
   "cell_type": "code",
   "execution_count": null,
   "metadata": {},
   "outputs": [],
   "source": [
    "# APCSP Pseudo-Code: For Loop with Continue and Break\n",
    "\n",
    "numbers ← [1, 2, 3, 4, 5]\n",
    "FOR EACH num IN numbers:\n",
    " \n",
    "    IF num EQUALS 3:\n",
    "        CONTINUE\n",
    "    IF num EQUALS 5:\n",
    "        BREAK \n",
    "    DISPLAY num\n",
    "END FOR\n"
   ]
  },
  {
   "cell_type": "code",
   "execution_count": 6,
   "metadata": {},
   "outputs": [
    {
     "name": "stdout",
     "output_type": "stream",
     "text": [
      "1\n",
      "2\n",
      "4\n"
     ]
    }
   ],
   "source": [
    "# Example 8: For loop with continue and break\n",
    "numbers = [1, 2, 3, 4, 5]\n",
    "for num in numbers:\n",
    "    if num == 3:\n",
    "        continue  # Skip the number 3\n",
    "    if num == 5:\n",
    "        break  # Exit the loop when 5 is encountered\n",
    "    print(num)"
   ]
  },
  {
   "cell_type": "markdown",
   "metadata": {},
   "source": [
    "# Nested For Loops\n",
    "- You can also put for loops within for loops\n",
    "- Allows for looping an exponential amount of times"
   ]
  },
  {
   "cell_type": "code",
   "execution_count": null,
   "metadata": {},
   "outputs": [],
   "source": [
    "# APCSP Pseudo-Code: Nested Loops for Group Names\n",
    "\n",
    "groups ← [[\"advik\", \"aashray\"], [\"akhil\", \"srijan\"]]\n",
    "\n",
    "FOR EACH pair IN groups:\n",
    "    FOR EACH person IN pair:\n",
    "        DISPLAY person + \" is cool\"\n",
    "    END FOR\n",
    "    DISPLAY pair[0] + \" and \" + pair[1] + \" love to code code code\"\n",
    "END FOR\n"
   ]
  },
  {
   "cell_type": "code",
   "execution_count": 32,
   "metadata": {},
   "outputs": [
    {
     "name": "stdout",
     "output_type": "stream",
     "text": [
      "advik is cool\n",
      "aashray is cool\n",
      "advik and aashray love to code code code\n",
      "akhil is cool\n",
      "srijan is cool\n",
      "akhil and srijan love to code code code\n"
     ]
    }
   ],
   "source": [
    "groups = [['advik', 'aashray'], ['akhil', 'srijan']]\n",
    "\n",
    "for pair in groups:\n",
    "    for person in pair:\n",
    "        print(person + ' is cool')\n",
    "    print(pair[0] + ' and ' + pair[1] + ' love to code code code')"
   ]
  },
  {
   "cell_type": "markdown",
   "metadata": {},
   "source": [
    "# (OPTIONAL) Popcorn Hack 4\n",
    "- Create a nested for loop that iterates over a dictionary that has:\n",
    "    - A name for each key\n",
    "    - A list for each value containing stuff like age, grade, etc.\n",
    "- Break/continue if certain conditions are met\n",
    "- Have fun! If you want to, relate it to a theme!"
   ]
  },
  {
   "cell_type": "code",
   "execution_count": 3,
   "metadata": {},
   "outputs": [
    {
     "name": "stdout",
     "output_type": "stream",
     "text": [
      "a In HS.\n",
      "b In HS.\n",
      "Not in HS\n"
     ]
    }
   ],
   "source": [
    "people = {\"a\" : [14, 9],\"b\" : [16, 12],\"c\" : [5, 1]};\n",
    "for i in people:\n",
    "    if people[i][1] < 9:\n",
    "        print(\"Not in HS\")\n",
    "        break\n",
    "    else:\n",
    "        print(i + \" In HS.\")\n",
    "        continue\n",
    "\n",
    "\n",
    "# Code here"
   ]
  },
  {
   "cell_type": "markdown",
   "metadata": {},
   "source": [
    "## Iteration via Recursion\n",
    "- A technique where a function calls itself\n",
    "- Can be used to recreate loops until a certain condition is met"
   ]
  },
  {
   "cell_type": "code",
   "execution_count": null,
   "metadata": {},
   "outputs": [],
   "source": [
    "# APCSP Pseudo-Code: Recursion for Factorial Calculation\n",
    "\n",
    "FUNCTION factorial(n):\n",
    "    IF n EQUALS 0:\n",
    "        RETURN 1\n",
    "    ELSE IF n LESS THAN 0:\n",
    "        RETURN \"undefined\"\n",
    "    ELSE IF TYPEOF(n) EQUALS \"float\":\n",
    "        RETURN \"not solvable without gamma function\"\n",
    "    ELSE:\n",
    "        RETURN n TIMES factorial(n - 1)\n",
    "    END IF\n",
    "END FUNCTION\n",
    "\n",
    "result ← CALL factorial(5)\n",
    "DISPLAY \"Factorial of 5 is\", result\n"
   ]
  },
  {
   "cell_type": "code",
   "execution_count": 31,
   "metadata": {},
   "outputs": [
    {
     "name": "stdout",
     "output_type": "stream",
     "text": [
      "Factorial of 5 is 120\n"
     ]
    }
   ],
   "source": [
    "# Example 9: Recursion for factorial calculation\n",
    "def factorial(n):\n",
    "    if n == 0: #Conditions to stop the recursion\n",
    "        return 1 # 0! is 1\n",
    "    elif n < 0:\n",
    "        return \"undefined\" # Undefined for negative numbers \n",
    "    elif isinstance(n, float):\n",
    "        return \"not solvable without gamma function\" # Only accept integers\n",
    "    else:\n",
    "        return n * factorial(n - 1) #Function calling itself\n",
    "\n",
    "result = factorial(5)\n",
    "print(\"Factorial of 5 is\", result)"
   ]
  },
  {
   "cell_type": "markdown",
   "metadata": {},
   "source": [
    "# Homework\n",
    "\n",
    "- Add student names w/ grades to a dictionary until the user doesn't want more students\n",
    "    - Prompt for user input for all of these\n",
    "\n",
    "\n",
    "- Use a nested if/else statement in a for loop \n",
    "    - Get the highest score in the dictionary\n",
    "    - Add all students who passed into a new list (add student names, not their scores)\n",
    "\n",
    "\n",
    "\n",
    "- Bonus: Use a try/except for any scores that aren't integers "
   ]
  },
  {
   "cell_type": "code",
   "execution_count": 6,
   "metadata": {},
   "outputs": [
    {
     "name": "stdout",
     "output_type": "stream",
     "text": [
      "[90]\n",
      "90\n",
      "{'key': 128738912749}\n"
     ]
    }
   ],
   "source": [
    "students = {}\n",
    "passed = []\n",
    "highest = 0\n",
    "#Code goes here\n",
    "numstudents = int(input(\"Number of Students:\"))\n",
    "for i in range(numstudents):\n",
    "    student_name = input(\"Enter Student Name:\")\n",
    "    student_grade = int(input(\"Enter Student Grade:\"))\n",
    "    students = {student_name.title():student_grade}\n",
    "# print(students)\n",
    "for i in students:\n",
    "    if students[i] >= 70:\n",
    "        passed.append(students[i])\n",
    "for i in students:\n",
    "    top_Temp = 0\n",
    "    if students[i]> top_Temp:\n",
    "        top_Temp = students[i]\n",
    "        highest = top_Temp\n",
    "print(passed)\n",
    "print(top_Temp)\n",
    "\n",
    "\n",
    "#dict = {}\n",
    "#dict[\"key\"] = 128738912749\n",
    "#print(dict)"
   ]
  }
 ],
 "metadata": {
  "kernelspec": {
   "display_name": "Python 3",
   "language": "python",
   "name": "python3"
  },
  "language_info": {
   "codemirror_mode": {
    "name": "ipython",
    "version": 3
   },
   "file_extension": ".py",
   "mimetype": "text/x-python",
   "name": "python",
   "nbconvert_exporter": "python",
   "pygments_lexer": "ipython3",
   "version": "3.10.12"
  }
 },
 "nbformat": 4,
 "nbformat_minor": 2
}
