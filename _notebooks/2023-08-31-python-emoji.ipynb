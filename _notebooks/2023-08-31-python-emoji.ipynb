{
 "cells": [
  {
   "cell_type": "markdown",
   "metadata": {},
   "source": [
    "---\n",
    "toc: true\n",
    "comments: false\n",
    "layout: post\n",
    "title: Using Python\n",
    "description: This is how you use python using emojis.\n",
    "type: plans\n",
    "courses: { compsci: {week: 2} }\n",
    "--- "
   ]
  },
  {
   "cell_type": "code",
   "execution_count": null,
   "metadata": {},
   "outputs": [],
   "source": [
    "from emoji import emojize\n",
    "print(emojize(\":thumbs_up: Emoji's are printed out using print() :grinning_face:\"))"
   ]
  }
 ],
 "metadata": {
  "language_info": {
   "name": "python"
  },
  "orig_nbformat": 4
 },
 "nbformat": 4,
 "nbformat_minor": 2
}
